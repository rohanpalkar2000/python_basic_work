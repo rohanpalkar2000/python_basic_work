{
 "cells": [
  {
   "cell_type": "code",
   "execution_count": 21,
   "id": "8a700197-7d9c-49e3-a1de-f5ded7b3e153",
   "metadata": {},
   "outputs": [],
   "source": [
    "import io"
   ]
  },
  {
   "cell_type": "code",
   "execution_count": 22,
   "id": "beee261f-e132-4b3b-bd4e-d80acfe27a49",
   "metadata": {},
   "outputs": [],
   "source": [
    "with open(\"test1.txt\" ,\"wb\") as f :\n",
    "    file = io.BufferedWriter(f)\n",
    "    \n",
    "    file.write(b\"Thank you for giving me this wonderful opportunity to introduce myself in front of you all. \\n\")\n",
    "    file.write(b\"My name is Rohan palkar. I was born Mumbai and brought up in Ratnagiri.My father always said, Knowledge yourself is the beginning of all wisdom. That's what I have lived by all my years.\\n\")\n",
    "    file.write(b\"My educational background is I completed BSc. IT with 9.23 CGPA from University of Mumbai in 2021. Currently, I am pursuing MSc.IT with AI specialization in University of Mumbai.Coming to my technical skills I know programming languages like HTML, CSS, JavaScript,Python and SQL and also MS office packages like Word, Excel, and PowerPoint.I had a year's gap after BSc Complition due to some family problems, I remain involved in technical things and kept improving my skills by attending many online programs.I also completed various projects like my personal portfolio website, visualization projects.As for my interests, I enjoy playing badminton and cricket.My strengths are friendly nature and I am always trying to learn new things from everywhere.\\n\")\n",
    "    file.write(b\"That's all about me.\")\n",
    "    file.flush()\n",
    "    "
   ]
  },
  {
   "cell_type": "code",
   "execution_count": 23,
   "id": "e51e9962-e506-4906-b269-be151bb57ba7",
   "metadata": {},
   "outputs": [
    {
     "name": "stdout",
     "output_type": "stream",
     "text": [
      "b\"Thank you for giving me this wonderful opportunity to introduce myself in front of you all. \\nMy name is Rohan palkar. I was born Mumbai and brought up in Ratnagiri.My father always said, Knowledge yourself is the beginning of all wisdom. That's what I have lived by all my years.\\nMy educational background is I completed BSc. IT with 9.23 CGPA from University of Mumbai in 2021. Currently, I am pursuing MSc.IT with AI specialization in University of Mumbai.Coming to my technical skills I know programming languages like HTML, CSS, JavaScript,Python and SQL and also MS office packages like Word, Excel, and PowerPoint.I had a year's gap after BSc Complition due to some family problems, I remain involved in technical things and kept improving my skills by attending many online programs.I also completed various projects like my personal portfolio website, visualization projects.As for my interests, I enjoy playing badminton and cricket.My strengths are friendly nature and I am always trying to\"\n"
     ]
    }
   ],
   "source": [
    "with open(\"test1.txt\" , \"rb\") as f :\n",
    "    \n",
    "    file = io.BufferedReader(f)\n",
    "    data = file.read(1000)\n",
    "    print(data)\n",
    "    \n",
    "    "
   ]
  },
  {
   "cell_type": "code",
   "execution_count": null,
   "id": "0580ae7a-e821-4dd7-9c81-533ddb680e13",
   "metadata": {},
   "outputs": [],
   "source": []
  }
 ],
 "metadata": {
  "kernelspec": {
   "display_name": "Python 3 (ipykernel)",
   "language": "python",
   "name": "python3"
  },
  "language_info": {
   "codemirror_mode": {
    "name": "ipython",
    "version": 3
   },
   "file_extension": ".py",
   "mimetype": "text/x-python",
   "name": "python",
   "nbconvert_exporter": "python",
   "pygments_lexer": "ipython3",
   "version": "3.10.8"
  }
 },
 "nbformat": 4,
 "nbformat_minor": 5
}
